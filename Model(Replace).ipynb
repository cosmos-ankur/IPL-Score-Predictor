{
 "cells": [
  {
   "cell_type": "code",
   "execution_count": 34,
   "metadata": {},
   "outputs": [],
   "source": [
    "import pandas as pd\n",
    "import numpy as np"
   ]
  },
  {
   "cell_type": "code",
   "execution_count": 35,
   "metadata": {},
   "outputs": [],
   "source": [
    "df = pd.read_csv('ipl.csv')"
   ]
  },
  {
   "cell_type": "code",
   "execution_count": 36,
   "metadata": {},
   "outputs": [],
   "source": [
    "consistent_teams = ['Mumbai Indians','Kings XI Punjab','Chennai Super Kings','Royal Challengers Bangalore','Kolkata Knight Riders',\n",
    "                   'Delhi Daredevils','Rajasthan Royals','Sunrisers Hyderabad']"
   ]
  },
  {
   "cell_type": "code",
   "execution_count": 37,
   "metadata": {},
   "outputs": [],
   "source": [
    "df = df[(df['bat_team'].isin(consistent_teams)) & (df['bowl_team'].isin(consistent_teams))]"
   ]
  },
  {
   "cell_type": "code",
   "execution_count": 38,
   "metadata": {},
   "outputs": [
    {
     "data": {
      "text/plain": [
       "Mumbai Indians                 8461\n",
       "Kings XI Punjab                7889\n",
       "Chennai Super Kings            7536\n",
       "Royal Challengers Bangalore    6843\n",
       "Kolkata Knight Riders          6300\n",
       "Rajasthan Royals               6038\n",
       "Delhi Daredevils               6022\n",
       "Sunrisers Hyderabad            4722\n",
       "Name: bat_team, dtype: int64"
      ]
     },
     "execution_count": 38,
     "metadata": {},
     "output_type": "execute_result"
    }
   ],
   "source": [
    "df['bat_team'].value_counts()"
   ]
  },
  {
   "cell_type": "code",
   "execution_count": 39,
   "metadata": {},
   "outputs": [],
   "source": [
    "df = df.replace('Mumbai Indians',0.001)\n",
    "df = df.replace('Kings XI Punjab',0.0011)\n",
    "df=df.replace('Chennai Super Kings',0.0012)\n",
    "df = df.replace('Royal Challengers Bangalore',0.0013)\n",
    "df = df.replace('Rajasthan Royals',0.0014)\n",
    "df = df.replace('Delhi Daredevils',0.0015)\n",
    "df = df.replace('Kolkata Knight Riders',0.0016)\n",
    "df = df.replace('Sunrisers Hyderabad',0.0017)\n"
   ]
  },
  {
   "cell_type": "code",
   "execution_count": 40,
   "metadata": {},
   "outputs": [
    {
     "data": {
      "text/plain": [
       "0.0010    8461\n",
       "0.0011    7889\n",
       "0.0012    7536\n",
       "0.0013    6843\n",
       "0.0016    6300\n",
       "0.0014    6038\n",
       "0.0015    6022\n",
       "0.0017    4722\n",
       "Name: bat_team, dtype: int64"
      ]
     },
     "execution_count": 40,
     "metadata": {},
     "output_type": "execute_result"
    }
   ],
   "source": [
    "df['bat_team'].value_counts()"
   ]
  },
  {
   "cell_type": "code",
   "execution_count": 41,
   "metadata": {},
   "outputs": [
    {
     "data": {
      "text/plain": [
       "Index(['mid', 'date', 'venue', 'bat_team', 'bowl_team', 'batsman', 'bowler',\n",
       "       'runs', 'wickets', 'overs', 'runs_last_5', 'wickets_last_5', 'striker',\n",
       "       'non-striker', 'total'],\n",
       "      dtype='object')"
      ]
     },
     "execution_count": 41,
     "metadata": {},
     "output_type": "execute_result"
    }
   ],
   "source": [
    "df.columns"
   ]
  },
  {
   "cell_type": "code",
   "execution_count": 42,
   "metadata": {},
   "outputs": [],
   "source": [
    "x = df[[ 'bat_team', 'bowl_team',\n",
    "       'runs', 'wickets', 'overs', 'runs_last_5', 'wickets_last_5']]\n",
    "y = df['total']"
   ]
  },
  {
   "cell_type": "code",
   "execution_count": 43,
   "metadata": {},
   "outputs": [],
   "source": [
    "from sklearn.model_selection import train_test_split\n",
    "x_train,x_test,y_train,y_test = train_test_split(x,y,test_size=0.25,random_state=101)"
   ]
  },
  {
   "cell_type": "code",
   "execution_count": 44,
   "metadata": {},
   "outputs": [
    {
     "data": {
      "text/plain": [
       "LinearRegression(copy_X=True, fit_intercept=True, n_jobs=None,\n",
       "         normalize=False)"
      ]
     },
     "execution_count": 44,
     "metadata": {},
     "output_type": "execute_result"
    }
   ],
   "source": [
    "from sklearn.linear_model import LinearRegression\n",
    "linear = LinearRegression()\n",
    "linear.fit(x_train,y_train)"
   ]
  },
  {
   "cell_type": "code",
   "execution_count": 45,
   "metadata": {},
   "outputs": [
    {
     "data": {
      "text/plain": [
       "0.520153124111286"
      ]
     },
     "execution_count": 45,
     "metadata": {},
     "output_type": "execute_result"
    }
   ],
   "source": [
    "linear.score(x_test,y_test)"
   ]
  },
  {
   "cell_type": "code",
   "execution_count": 46,
   "metadata": {},
   "outputs": [
    {
     "data": {
      "text/plain": [
       "0.6484849455620177"
      ]
     },
     "execution_count": 46,
     "metadata": {},
     "output_type": "execute_result"
    }
   ],
   "source": [
    "from sklearn.tree import DecisionTreeRegressor\n",
    "tree = DecisionTreeRegressor()\n",
    "tree.fit(x_train,y_train)\n",
    "tree.score(x_test,y_test)"
   ]
  },
  {
   "cell_type": "code",
   "execution_count": 47,
   "metadata": {},
   "outputs": [
    {
     "data": {
      "text/plain": [
       "0.9738718940559122"
      ]
     },
     "execution_count": 47,
     "metadata": {},
     "output_type": "execute_result"
    }
   ],
   "source": [
    "tree.score(x_train,y_train)"
   ]
  },
  {
   "cell_type": "code",
   "execution_count": 48,
   "metadata": {},
   "outputs": [
    {
     "data": {
      "text/plain": [
       "0.8382516910726232"
      ]
     },
     "execution_count": 48,
     "metadata": {},
     "output_type": "execute_result"
    }
   ],
   "source": [
    "from sklearn.ensemble import RandomForestClassifier\n",
    "forest = RandomForestClassifier(n_estimators=200)\n",
    "forest.fit(x_train,y_train)\n",
    "forest.score(x_test,y_test)"
   ]
  },
  {
   "cell_type": "code",
   "execution_count": 49,
   "metadata": {},
   "outputs": [
    {
     "data": {
      "text/plain": [
       "0.9739085187571237"
      ]
     },
     "execution_count": 49,
     "metadata": {},
     "output_type": "execute_result"
    }
   ],
   "source": [
    "forest.score(x_train,y_train)"
   ]
  },
  {
   "cell_type": "code",
   "execution_count": 50,
   "metadata": {},
   "outputs": [
    {
     "data": {
      "text/plain": [
       "Ridge(alpha=1.0, copy_X=True, fit_intercept=True, max_iter=None,\n",
       "   normalize=False, random_state=None, solver='auto', tol=0.001)"
      ]
     },
     "execution_count": 50,
     "metadata": {},
     "output_type": "execute_result"
    }
   ],
   "source": [
    "from sklearn.linear_model import Ridge\n",
    "rid = Ridge(alpha = 1.0)\n",
    "rid.fit(x_train,y_train)"
   ]
  },
  {
   "cell_type": "code",
   "execution_count": 51,
   "metadata": {},
   "outputs": [
    {
     "data": {
      "text/plain": [
       "0.5145724421706706"
      ]
     },
     "execution_count": 51,
     "metadata": {},
     "output_type": "execute_result"
    }
   ],
   "source": [
    "rid.score(x_test,y_test)"
   ]
  },
  {
   "cell_type": "code",
   "execution_count": 52,
   "metadata": {},
   "outputs": [
    {
     "data": {
      "text/plain": [
       "GradientBoostingRegressor(alpha=0.9, criterion='friedman_mse', init=None,\n",
       "             learning_rate=0.1, loss='ls', max_depth=3, max_features=None,\n",
       "             max_leaf_nodes=None, min_impurity_decrease=0.0,\n",
       "             min_impurity_split=None, min_samples_leaf=1,\n",
       "             min_samples_split=2, min_weight_fraction_leaf=0.0,\n",
       "             n_estimators=100, n_iter_no_change=None, presort='auto',\n",
       "             random_state=None, subsample=1.0, tol=0.0001,\n",
       "             validation_fraction=0.1, verbose=0, warm_start=False)"
      ]
     },
     "execution_count": 52,
     "metadata": {},
     "output_type": "execute_result"
    }
   ],
   "source": [
    "from sklearn.ensemble import GradientBoostingRegressor\n",
    "grad = GradientBoostingRegressor()\n",
    "grad.fit(x_train,y_train)\n"
   ]
  },
  {
   "cell_type": "code",
   "execution_count": 53,
   "metadata": {},
   "outputs": [
    {
     "data": {
      "text/plain": [
       "0.54174235959038"
      ]
     },
     "execution_count": 53,
     "metadata": {},
     "output_type": "execute_result"
    }
   ],
   "source": [
    "grad.score(x_test,y_test)"
   ]
  },
  {
   "cell_type": "code",
   "execution_count": 54,
   "metadata": {},
   "outputs": [
    {
     "data": {
      "text/plain": [
       "0.38194422481004053"
      ]
     },
     "execution_count": 54,
     "metadata": {},
     "output_type": "execute_result"
    }
   ],
   "source": [
    "from sklearn.ensemble import AdaBoostRegressor\n",
    "ada = AdaBoostRegressor()\n",
    "ada.fit(x_train,y_train)\n",
    "ada.score(x_test,y_test)"
   ]
  },
  {
   "cell_type": "code",
   "execution_count": 59,
   "metadata": {},
   "outputs": [
    {
     "name": "stdout",
     "output_type": "stream",
     "text": [
      "Enter Batting Team srh\n",
      "Enter Bowling Team k11p\n",
      "Enter Current Score 34\n",
      "Enter Wickets Fallen 2\n",
      "Enter over passed 4.3\n",
      "Enter runs in last 5 overs 34\n",
      "Enter wickets in last 5 overs 2\n",
      "Expected Runs [150]\n"
     ]
    }
   ],
   "source": [
    "bat_team = str(input('Enter Batting Team '))\n",
    "if (bat_team == 'Mumbai Indians' or bat_team=='mi'):\n",
    "    bat_team=0.001\n",
    "elif(bat_team=='Kings XI Punjab' or bat_team=='k11p'):\n",
    "    bat_team=0.0011\n",
    "elif(bat_team=='Chennai Super Kings' or bat_team=='csk'):\n",
    "    bat_team=0.0012\n",
    "elif(bat_team=='Royal Challengers Bangalore' or bat_team=='rcb'):\n",
    "    bat_team=0.0013\n",
    "elif(bat_team=='Kolkata Knight Riders' or bat_team=='kkr'):\n",
    "    bat_team=0.0014\n",
    "elif(bat_team=='Rajasthan Royals' or bat_team=='rr'):\n",
    "    bat_team=0.0015\n",
    "elif(bat_team=='Delhi Daredevils' or bat_team== 'dc'):\n",
    "    bat_team=0.0016\n",
    "elif(bat_team=='Sunrisers Hyderabad' or bat_team=='srh'):\n",
    "    bat_team=0.0017\n",
    "\n",
    "ball_team = str(input('Enter Bowling Team '))\n",
    "if (ball_team == 'Mumbai Indians' or ball_team=='mi'):\n",
    "    ball_team=0.001\n",
    "elif(ball_team=='Kings XI Punjab' or ball_team=='k11p'):\n",
    "    ball_team=0.0011\n",
    "elif(ball_team=='Chennai Super Kings' or ball_team=='csk'):\n",
    "    ball_team=0.0012\n",
    "elif(ball_team=='Royal Challengers Bangalore' or ball_team=='rcb'):\n",
    "    ball_team=0.0013\n",
    "elif(ball_team=='Kolkata Knight Riders' or ball_team=='kkr'):\n",
    "    ball_team=0.0014\n",
    "elif(ball_team=='Rajasthan Royals' or ball_team=='rr'):\n",
    "    ball_team=0.0015\n",
    "elif(ball_team=='Delhi Daredevils' or ball_team== 'dc'):\n",
    "    ball_team=0.0016\n",
    "elif(ball_team=='Sunrisers Hyderabad' or  ball_team =='srh'):\n",
    "    ball_team=0.0017\n",
    "\n",
    "current_score = int(input('Enter Current Score '))\n",
    "Wickets_fallen = int(input('Enter Wickets Fallen '))\n",
    "Current_overs = float(input('Enter over passed '))\n",
    "runs_5 = int(input('Enter runs in last 5 overs '))\n",
    "wickets_5 = int(input('Enter wickets in last 5 overs '))\n",
    "\n",
    "import numpy as np\n",
    "test = np.array([bat_team,ball_team,current_score,Wickets_fallen,Current_overs,runs_5,wickets_5]).reshape(1,-1)\n",
    "predict =  forest.predict(test)\n",
    "print('Expected Runs',predict)\n"
   ]
  },
  {
   "cell_type": "code",
   "execution_count": null,
   "metadata": {},
   "outputs": [],
   "source": []
  }
 ],
 "metadata": {
  "kernelspec": {
   "display_name": "Python 3",
   "language": "python",
   "name": "python3"
  },
  "language_info": {
   "codemirror_mode": {
    "name": "ipython",
    "version": 3
   },
   "file_extension": ".py",
   "mimetype": "text/x-python",
   "name": "python",
   "nbconvert_exporter": "python",
   "pygments_lexer": "ipython3",
   "version": "3.7.1"
  }
 },
 "nbformat": 4,
 "nbformat_minor": 4
}
